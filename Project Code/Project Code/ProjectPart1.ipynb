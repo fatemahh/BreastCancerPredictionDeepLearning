{
 "cells": [
  {
   "cell_type": "markdown",
   "metadata": {},
   "source": [
    "# ipython -c \"%run ProjectPart1.ipynb\"  ..RUN CODE WITH THIS.."
   ]
  },
  {
   "cell_type": "markdown",
   "metadata": {
    "id": "KFxCKvNCWgvU"
   },
   "source": [
    "## Import Needed Packages\n"
   ]
  },
  {
   "cell_type": "code",
   "execution_count": 1,
   "metadata": {
    "id": "T0ZFV8gl5jVo"
   },
   "outputs": [],
   "source": [
    "# import the necessary packages\n",
    "import pandas as pd\n",
    "import seaborn as sns\n",
    "import numpy as np\n",
    "import matplotlib.pyplot as plt\n",
    "import sys\n",
    "import io\n",
    "from sklearn.metrics import classification_report\n",
    "\n",
    "from keras.callbacks import ModelCheckpoint, CSVLogger\n",
    "from tensorflow.keras import applications\n",
    "from tensorflow.keras.models import Sequential\n",
    "from tensorflow.keras.layers import BatchNormalization\n",
    "from tensorflow.keras.layers import SeparableConv2D\n",
    "from tensorflow.keras.layers import MaxPooling2D\n",
    "from tensorflow.keras.layers import Activation\n",
    "from tensorflow.keras.layers import Flatten\n",
    "from tensorflow.keras.layers import Dropout\n",
    "from tensorflow.keras.layers import Dense\n",
    "from tensorflow.keras.layers import Dense, Activation\n",
    "from tensorflow.keras.optimizers import Adam, SGD, Adagrad, RMSprop\n",
    "from tensorflow.keras.initializers import RandomNormal, RandomUniform\n",
    "from tensorflow.keras.losses import BinaryCrossentropy, CategoricalHinge\n",
    "from tensorflow.keras import regularizers\n",
    "from tensorflow.keras import backend as K\n",
    "import tensorflow as tf\n",
    "from scipy import ndimage\n",
    "\n",
    "import matplotlib\n",
    "matplotlib.use(\"Agg\")\n",
    "# import the necessary packages\n",
    "from tensorflow.keras.preprocessing.image import ImageDataGenerator\n",
    "from tensorflow.keras.callbacks import LearningRateScheduler\n",
    "from tensorflow.keras.utils import to_categorical\n",
    "from sklearn.metrics import classification_report\n",
    "from sklearn.metrics import confusion_matrix\n",
    "from imutils import paths\n",
    "from matplotlib.backends.backend_agg import FigureCanvasAgg\n",
    "import numpy as np\n",
    "import argparse\n",
    "import os\n",
    "import random\n",
    "import shutil\n",
    "\n",
    "from os import listdir\n",
    "\n",
    "from keras.preprocessing.image import ImageDataGenerator"
   ]
  },
  {
   "cell_type": "markdown",
   "metadata": {
    "id": "P5bk5HhGWtUf"
   },
   "source": [
    "## Load Dataset"
   ]
  },
  {
   "cell_type": "code",
   "execution_count": 19,
   "metadata": {},
   "outputs": [
    {
     "name": "stdout",
     "output_type": "stream",
     "text": [
      "GPU available: []\n"
     ]
    }
   ],
   "source": [
    "\n",
    "ORIG_INPUT_DATASET = \"Dataset\"\n",
    "BASE_PATH = \"DatasetNew\"\n",
    "\n",
    "# Derive the training, validation, and testing directories\n",
    "TRAIN_PATH = os.path.join(BASE_PATH, \"training\")\n",
    "VAL_PATH = os.path.join(BASE_PATH, \"validation\")\n",
    "TEST_PATH = os.path.join(BASE_PATH, \"testing\")\n",
    "\n",
    "# Define the amount of data that will be used for training\n",
    "TRAIN_SPLIT = 0.8\n",
    "\n",
    "# The amount of validation data will be a percentage of the\n",
    "# training data\n",
    "VAL_SPLIT = 0.1"
   ]
  },
  {
   "cell_type": "markdown",
   "metadata": {},
   "source": [
    "Comment This when you Test !!!!!!!!!!!!!!!!!!!!!!!!!!!!!!!!! but when you want to train you need this and make newDataset  empty"
   ]
  },
  {
   "cell_type": "code",
   "execution_count": null,
   "metadata": {},
   "outputs": [],
   "source": [
    "# grab the paths to all input images in the original input directory\n",
    "# and shuffle them\n",
    "\n",
    "imagePaths = list(paths.list_images(ORIG_INPUT_DATASET))\n",
    "random.seed(42)\n",
    "random.shuffle(imagePaths)\n",
    "# compute the training and testing split\n",
    "i = int(len(imagePaths) * TRAIN_SPLIT)\n",
    "trainPaths = imagePaths[:i]\n",
    "testPaths = imagePaths[i:]\n",
    "# we'll be using part of the training data for validation\n",
    "i = int(len(trainPaths) * VAL_SPLIT)\n",
    "valPaths = trainPaths[:i]\n",
    "trainPaths = trainPaths[i:]\n",
    "# define the datasets that we'll be building\n",
    "datasets = [\n",
    "\t(\"training\", trainPaths, TRAIN_PATH),\n",
    "\t(\"validation\", valPaths, VAL_PATH),\n",
    "\t(\"testing\", testPaths, TEST_PATH)\n",
    "]"
   ]
  },
  {
   "cell_type": "markdown",
   "metadata": {},
   "source": [
    "Comment This when you Test !!!!!!!!!!!!!!!!!!!!!!!!!!!!!!!!! but when you want to train you need this and make newDataset  empty"
   ]
  },
  {
   "cell_type": "markdown",
   "metadata": {},
   "source": [
    "## loop over the datasets"
   ]
  },
  {
   "cell_type": "code",
   "execution_count": null,
   "metadata": {},
   "outputs": [],
   "source": [
    "\n",
    "for (dType, imagePaths, baseOutput) in datasets:\n",
    "\t# show which data split we are creating\n",
    "\tprint(\"[INFO] building '{}' split\".format(dType))\n",
    "\t# if the output base output directory does not exist, create it\n",
    "\tif not os.path.exists(baseOutput):\n",
    "\t\tprint(\"[INFO] 'creating {}' directory\".format(baseOutput))\n",
    "\t\tos.makedirs(baseOutput)\n",
    "\t# loop over the input image paths\n",
    "\tfor inputPath in imagePaths:\n",
    "\t\t# extract the filename of the input image and extract the\n",
    "\t\t# class label (\"0\" for \"negative\" and \"1\" for \"positive\")\n",
    "\t\tfilename = inputPath.split(os.path.sep)[-1]\n",
    "\t\tlabel = filename[-5:-4]\n",
    "\t\t# build the path to the label directory\n",
    "\t\tlabelPath = os.path.sep.join([baseOutput, label])\n",
    "\t\t# if the label output directory does not exist, create it\n",
    "\t\tif not os.path.exists(labelPath):\n",
    "\t\t\tprint(\"[INFO] 'creating {}' directory\".format(labelPath))\n",
    "\t\t\tos.makedirs(labelPath)\n",
    "\t\t# construct the path to the destination image and then copy\n",
    "\t\t# the image itself\n",
    "\t\tp = os.path.sep.join([labelPath, filename])\n",
    "\t\tshutil.copy2(inputPath, p)# Define Model\n",
    " "
   ]
  },
  {
   "cell_type": "markdown",
   "metadata": {},
   "source": [
    "Original Model"
   ]
  },
  {
   "cell_type": "code",
   "execution_count": null,
   "metadata": {},
   "outputs": [],
   "source": [
    "\n",
    "class CancerNet:\n",
    "  @staticmethod\n",
    "  def build(width, height, depth, classes):\n",
    "    height, width, depth = 50, 50, 3  # Assuming 3 channels for RGB images\n",
    "    inputShape = (height, width, depth)\n",
    "    chanDim = -1\n",
    "    if K.image_data_format() == \"channels_first\":\n",
    "      inputShape = (depth, height, width)\n",
    "      chanDim = 1\n",
    "    model = Sequential()\n",
    "    # CONV => RELU => POOL\n",
    "    model.add(SeparableConv2D(32, (3, 3), padding=\"same\", input_shape = inputShape))\n",
    "    model.add(Activation(\"relu\"))\n",
    "    model.add(BatchNormalization(axis=chanDim))\n",
    "    model.add(MaxPooling2D(pool_size=(2, 2)))\n",
    "    model.add(Dropout(0.25))\n",
    "    # (CONV => RELU => POOL) * 2\n",
    "    model.add(SeparableConv2D(64, (3, 3), padding=\"same\"))\n",
    "    model.add(Activation(\"relu\"))\n",
    "    model.add(BatchNormalization(axis=chanDim))\n",
    "    model.add(SeparableConv2D(64, (3, 3), padding=\"same\"))\n",
    "    model.add(Activation(\"relu\"))\n",
    "    model.add(BatchNormalization(axis=chanDim))\n",
    "    model.add(MaxPooling2D(pool_size=(2, 2)))\n",
    "    model.add(Dropout(0.25))\n",
    "    # (CONV => RELU => POOL) * 3\n",
    "    model.add(SeparableConv2D(128, (3, 3), padding=\"same\"))\n",
    "    model.add(Activation(\"relu\"))\n",
    "    model.add(BatchNormalization(axis=chanDim))\n",
    "    model.add(SeparableConv2D(128, (3, 3), padding=\"same\"))\n",
    "    model.add(Activation(\"relu\"))\n",
    "    model.add(BatchNormalization(axis=chanDim))\n",
    "    model.add(SeparableConv2D(128, (3, 3), padding=\"same\"))\n",
    "    model.add(Activation(\"relu\"))\n",
    "    model.add(BatchNormalization(axis=chanDim))\n",
    "    model.add(MaxPooling2D(pool_size=(2, 2)))\n",
    "    model.add(Dropout(0.25))\n",
    "    # first (and only) set of FC => RELU layers\n",
    "    model.add(Flatten())\n",
    "    model.add(Dense(256))\n",
    "    model.add(Activation(\"relu\"))\n",
    "    model.add(BatchNormalization())\n",
    "    model.add(Dropout(0.5))\n",
    "    # softmax classifier\n",
    "    model.add(Dense(classes))\n",
    "    model.add(Activation(\"softmax\"))\n",
    "    # return the constructed network architecture\n",
    "    return model"
   ]
  },
  {
   "cell_type": "markdown",
   "metadata": {},
   "source": [
    "Customized model"
   ]
  },
  {
   "cell_type": "code",
   "execution_count": 1,
   "metadata": {},
   "outputs": [],
   "source": [
    "# class CancerNet:\n",
    "#   @staticmethod\n",
    "#   def build(width, height, depth, classes):\n",
    "#     height, width, depth = 50, 50, 3  # Assuming 3 channels for RGB images\n",
    "#     inputShape = (height, width, depth)\n",
    "#     chanDim = -1\n",
    "#     if K.image_data_format() == \"channels_first\":\n",
    "#       inputShape = (depth, height, width)\n",
    "#       chanDim = 1\n",
    "#     model = Sequential()\n",
    "#     # CONV => RELU => POOL\n",
    "#     model.add(SeparableConv2D(16, (3, 3), padding=\"same\", input_shape = inputShape))\n",
    "#     model.add(Activation(\"relu\"))\n",
    "#     model.add(BatchNormalization(axis=chanDim))\n",
    "#     model.add(MaxPooling2D(pool_size=(2, 2)))\n",
    "#     model.add(Dropout(0.25))\n",
    "#     # (CONV => RELU => POOL) * 2\n",
    "#     model.add(SeparableConv2D(32, (3, 3), padding=\"same\"))\n",
    "#     model.add(Activation(\"relu\"))\n",
    "#     model.add(BatchNormalization(axis=chanDim))\n",
    "#     model.add(SeparableConv2D(32, (3, 3), padding=\"same\"))\n",
    "#     model.add(Activation(\"relu\"))\n",
    "#     model.add(BatchNormalization(axis=chanDim))\n",
    "#     model.add(MaxPooling2D(pool_size=(2, 2)))\n",
    "#     model.add(Dropout(0.25))\n",
    "#     # first (and only) set of FC => RELU layers\n",
    "#     print(model.output_shape)\n",
    "#     print(\"??????????????????????????\")\n",
    "#     model.add(Flatten())\n",
    "#     print(model.output_shape)\n",
    "#     model.add(Dense(256))\n",
    "#     print(model.output_shape)\n",
    "#     model.add(Activation(\"relu\"))\n",
    "#     model.add(BatchNormalization())\n",
    "#     model.add(Dropout(0.5))\n",
    "#     # softmax classifier\n",
    "#     model.add(Dense(classes))\n",
    "#     model.add(Activation(\"softmax\"))\n",
    "#     # return the constructed network architecture\n",
    "#     return model"
   ]
  },
  {
   "cell_type": "markdown",
   "metadata": {},
   "source": [
    "# Attention Layer"
   ]
  },
  {
   "cell_type": "code",
   "execution_count": null,
   "metadata": {},
   "outputs": [],
   "source": [
    "# import tensorflow as tf\n",
    "# from tensorflow.keras.models import Sequential\n",
    "# from tensorflow.keras.layers import SeparableConv2D, Activation, BatchNormalization, MaxPooling2D, Dropout, Flatten, Dense\n",
    "\n",
    "# class SelfAttentionLayer(tf.keras.layers.Layer):\n",
    "#     def __init__(self, filters):\n",
    "#         super(SelfAttentionLayer, self).__init__()\n",
    "#         self.filters = filters\n",
    "#         self.gamma = self.add_weight(name=\"gamma\", shape=(1,), initializer=\"zeros\", trainable=True)\n",
    "\n",
    "#     def build(self, input_shape):\n",
    "#         self.convolution_f = SeparableConv2D(filters=self.filters, kernel_size=(1, 1), strides=(1, 1), padding='same')\n",
    "#         self.convolution_g = SeparableConv2D(filters=self.filters, kernel_size=(1, 1), strides=(1, 1), padding='same')\n",
    "#         self.convolution_h = SeparableConv2D(filters=self.filters, kernel_size=(1, 1), strides=(1, 1), padding='same')\n",
    "#         super(SelfAttentionLayer, self).build(input_shape)\n",
    "\n",
    "#     def call(self, x):\n",
    "#         f = self.convolution_f(x)\n",
    "#         g = self.convolution_g(x)\n",
    "#         h = self.convolution_h(x)\n",
    "\n",
    "#         s = tf.matmul(g, f, transpose_b=True)\n",
    "#         beta = tf.nn.softmax(s, axis=-1)\n",
    "#         o = tf.matmul(beta, h)\n",
    "\n",
    "#         x = self.gamma * o + x\n",
    "\n",
    "#         return x\n",
    "    \n",
    "# class CancerNet:\n",
    "#     @staticmethod\n",
    "#     def build(width, height, depth, classes):\n",
    "#         height, width, depth = 50, 50, 3  # Assuming 3 channels for RGB images\n",
    "#         inputShape = (height, width, depth)\n",
    "#         chanDim = -1\n",
    "\n",
    "#         model = Sequential()\n",
    "\n",
    "#         # CONV => RELU => POOL\n",
    "#         model.add(SeparableConv2D(32, (3, 3), padding=\"same\", input_shape=inputShape))\n",
    "#         model.add(Activation(\"relu\"))\n",
    "#         model.add(BatchNormalization(axis=chanDim))\n",
    "#         model.add(MaxPooling2D(pool_size=(2, 2)))\n",
    "#         model.add(Dropout(0.25))\n",
    "\n",
    "#         # Attention Layer\n",
    "#         model.add(SelfAttentionLayer(filters=32))\n",
    "\n",
    "#         # (CONV => RELU => POOL) * 2\n",
    "#         model.add(SeparableConv2D(64, (3, 3), padding=\"same\"))\n",
    "#         model.add(Activation(\"relu\"))\n",
    "#         model.add(BatchNormalization(axis=chanDim))\n",
    "#         model.add(SeparableConv2D(64, (3, 3), padding=\"same\"))\n",
    "#         model.add(Activation(\"relu\"))\n",
    "#         model.add(BatchNormalization(axis=chanDim))\n",
    "#         model.add(MaxPooling2D(pool_size=(2, 2)))\n",
    "#         model.add(Dropout(0.25))\n",
    "\n",
    "#         # Attention Layer\n",
    "#         model.add(SelfAttentionLayer(filters=64))\n",
    "\n",
    "#         # (CONV => RELU => POOL) * 3\n",
    "#         model.add(SeparableConv2D(128, (3, 3), padding=\"same\"))\n",
    "#         model.add(Activation(\"relu\"))\n",
    "#         model.add(BatchNormalization(axis=chanDim))\n",
    "#         model.add(SeparableConv2D(128, (3, 3), padding=\"same\"))\n",
    "#         model.add(Activation(\"relu\"))\n",
    "#         model.add(BatchNormalization(axis=chanDim))\n",
    "#         model.add(SeparableConv2D(128, (3, 3), padding=\"same\"))\n",
    "#         model.add(Activation(\"relu\"))\n",
    "#         model.add(BatchNormalization(axis=chanDim))\n",
    "#         model.add(MaxPooling2D(pool_size=(2, 2)))\n",
    "#         model.add(Dropout(0.25))\n",
    "\n",
    "#         # Attention Layer\n",
    "#         model.add(SelfAttentionLayer(filters=128))\n",
    "\n",
    "#         # First (and only) set of FC => RELU layers\n",
    "#         model.add(Flatten())\n",
    "#         model.add(Dense(256))\n",
    "#         model.add(Activation(\"relu\"))\n",
    "#         model.add(BatchNormalization())\n",
    "#         model.add(Dropout(0.5))\n",
    "\n",
    "#         # Softmax classifier\n",
    "#         model.add(Dense(classes))\n",
    "#         model.add(Activation(\"softmax\"))\n",
    "\n",
    "#         # Return the constructed network architecture\n",
    "#         return model"
   ]
  },
  {
   "cell_type": "markdown",
   "metadata": {},
   "source": [
    "Comment This when you Test !!!!!!!!!!!!!!!!!!!!!!!!!!!!!!!!! but when you want to train you need this and make newDataset  empty"
   ]
  },
  {
   "cell_type": "markdown",
   "metadata": {},
   "source": [
    "Using different model"
   ]
  },
  {
   "cell_type": "code",
   "execution_count": null,
   "metadata": {},
   "outputs": [],
   "source": [
    "\n",
    "# class CancerNet:\n",
    "#     @staticmethod\n",
    "#     def VGG(pretrained = True, input_shape = (50, 50, 3)):\n",
    "\n",
    "#         if(pretrained):\n",
    "\n",
    "#             base_model = applications.resnet50.ResNet50(weights='imagenet', include_top=False, input_shape=input_shape, pooling='none')\n",
    "#         else:\n",
    "#             base_model = applications.resnet50.ResNet50(weights=None, include_top=False, input_shape=input_shape, pooling='none')\n",
    "\n",
    "\n",
    "#         return base_model\n"
   ]
  },
  {
   "cell_type": "markdown",
   "metadata": {},
   "source": [
    "Freezing Def"
   ]
  },
  {
   "cell_type": "code",
   "execution_count": null,
   "metadata": {},
   "outputs": [],
   "source": [
    "def freeze(model, number_of_frozen_layers):\n",
    "    layers = model.layers\n",
    "\n",
    "    layers = layers[:number_of_frozen_layers]\n",
    "\n",
    "    for layer in layers:\n",
    "        layer.trainable = False\n",
    "\n",
    "    return model"
   ]
  },
  {
   "cell_type": "code",
   "execution_count": null,
   "metadata": {
    "colab": {
     "base_uri": "https://localhost:8080/",
     "height": 245
    },
    "id": "1FHcBlur50Cc",
    "outputId": "b8833467-66ff-47ae-e3bb-18bd00262391"
   },
   "outputs": [],
   "source": [
    "# initialize our number of epochs, initial learning rate, and batch\n",
    "# size\n",
    "NUM_EPOCHS = 40\n",
    "# NUM_EPOCHS = 300\n",
    "# NUM_EPOCHS = 1000\n",
    "INIT_LR = 1e-2\n",
    "BS = 32\n",
    "# determine the total number of image paths in training, validation,\n",
    "# and testing directories\n",
    "trainPaths = list(paths.list_images(TRAIN_PATH))\n",
    "totalTrain = len(trainPaths)\n",
    "totalVal = len(list(paths.list_images(VAL_PATH)))\n",
    "totalTest = len(list(paths.list_images(TEST_PATH)))\n",
    "# calculate the total number of training images in each class and\n",
    "# initialize a dictionary to store the class weights\n",
    "trainLabels = [int(p.split(os.path.sep)[-2]) for p in trainPaths]\n",
    "trainLabels = to_categorical(trainLabels)\n",
    "classTotals = trainLabels.sum(axis=0)\n",
    "classWeight = dict()\n",
    "# loop over all classes and calculate the class weight\n",
    "for i in range(0, len(classTotals)):\n",
    "\tclassWeight[i] = classTotals.max() / classTotals[i]"
   ]
  },
  {
   "cell_type": "markdown",
   "metadata": {},
   "source": [
    "Data Augmentation"
   ]
  },
  {
   "cell_type": "code",
   "execution_count": null,
   "metadata": {
    "id": "P3yqFVrD59YM"
   },
   "outputs": [],
   "source": [
    "# initialize the training data augmentation object\n",
    "trainAug = ImageDataGenerator(\n",
    "\trescale=1 / 255.0,\n",
    "\trotation_range=20,\n",
    "\tzoom_range=0.05,\n",
    "\twidth_shift_range=0.1,\n",
    "\theight_shift_range=0.1,\n",
    "\tshear_range=0.05,\n",
    "\thorizontal_flip=True,\n",
    "\tvertical_flip=True,\n",
    "\tfill_mode=\"nearest\")\n",
    "# initialize the validation (and testing) data augmentation object\n",
    "valAug = ImageDataGenerator(rescale=1 / 255.0)"
   ]
  },
  {
   "cell_type": "markdown",
   "metadata": {},
   "source": [
    "Changin in zoom range and rotation range"
   ]
  },
  {
   "cell_type": "code",
   "execution_count": null,
   "metadata": {},
   "outputs": [],
   "source": [
    "# # initialize the training data augmentation object\n",
    "# trainAug = ImageDataGenerator(\n",
    "# \trescale=1 / 255.0,\n",
    "# \trotation_range=10,\n",
    "# \tzoom_range=0.5,\n",
    "# \twidth_shift_range=0.1,\n",
    "# \theight_shift_range=0.1,\n",
    "# \tshear_range=0.05,\n",
    "# \thorizontal_flip=True,\n",
    "# \tvertical_flip=True,\n",
    "# \tfill_mode=\"nearest\")\n",
    "# # initialize the validation (and testing) data augmentation object\n",
    "# valAug = ImageDataGenerator(rescale=1 / 255.0)"
   ]
  },
  {
   "cell_type": "markdown",
   "metadata": {},
   "source": [
    "Without rotation and fill mode changed to "
   ]
  },
  {
   "cell_type": "code",
   "execution_count": null,
   "metadata": {},
   "outputs": [],
   "source": [
    "# # initialize the training data augmentation object\n",
    "# trainAug = ImageDataGenerator(\n",
    "# \trescale=1 / 255.0,\n",
    "# \tzoom_range=0.5,\n",
    "# \twidth_shift_range=0.1,\n",
    "# \theight_shift_range=0.1,\n",
    "# \tshear_range=0.05,\n",
    "# \thorizontal_flip=False,\n",
    "# \tvertical_flip=False,\n",
    "# \tfill_mode=\"reflect\")\n",
    "# # initialize the validation (and testing) data augmentation object\n",
    "# valAug = ImageDataGenerator(rescale=1 / 255.0)"
   ]
  },
  {
   "cell_type": "markdown",
   "metadata": {},
   "source": [
    "No augmentations"
   ]
  },
  {
   "cell_type": "code",
   "execution_count": null,
   "metadata": {},
   "outputs": [],
   "source": [
    "# # initialize the training data augmentation object\n",
    "# trainAug = ImageDataGenerator()\n",
    "# # initialize the validation (and testing) data augmentation object\n",
    "# valAug = ImageDataGenerator()"
   ]
  },
  {
   "cell_type": "markdown",
   "metadata": {
    "id": "m8Jd2bFzxi_2"
   },
   "source": [
    "- Training generator\n",
    "- Validation generator\n",
    "- Testing generator"
   ]
  },
  {
   "cell_type": "code",
   "execution_count": null,
   "metadata": {
    "id": "mB5Fe4re6ANR"
   },
   "outputs": [],
   "source": [
    "# initialize the training generator\n",
    "trainGen = trainAug.flow_from_directory(\n",
    "\tTRAIN_PATH,\n",
    "\tclass_mode=\"categorical\",\n",
    "\ttarget_size=(48, 48),\n",
    "\tcolor_mode=\"rgb\",\n",
    "\tshuffle=True,\n",
    "\tbatch_size=BS)\n",
    "# initialize the validation generator\n",
    "valGen = valAug.flow_from_directory(\n",
    "\tVAL_PATH,\n",
    "\tclass_mode=\"categorical\",\n",
    "\ttarget_size=(48, 48),\n",
    "\tcolor_mode=\"rgb\",\n",
    "\tshuffle=False,\n",
    "\tbatch_size=BS)\n",
    "# initialize the testing generator\n",
    "testGen = valAug.flow_from_directory(\n",
    "\tTEST_PATH,\n",
    "\tclass_mode=\"categorical\",\n",
    "\ttarget_size=(48, 48),\n",
    "\tcolor_mode=\"rgb\",\n",
    "\tshuffle=False,\n",
    "\tbatch_size=BS)"
   ]
  },
  {
   "cell_type": "markdown",
   "metadata": {
    "id": "l0yOjdzCxtrd"
   },
   "source": [
    "# Train Model"
   ]
  },
  {
   "cell_type": "code",
   "execution_count": null,
   "metadata": {
    "id": "Cf3suLCu6B_a"
   },
   "outputs": [],
   "source": [
    "# initialize our CancerNet model and compile it\n",
    "\n",
    "model = CancerNet.build(width=48, height=48, depth=3,\n",
    "\tclasses=2)   # This is using original model\n",
    "\n",
    "\n",
    "# model = CancerNet.Res50(True,(50,50,3))   # This is using VGG model (as a test) <<<<<Not Working>>>\n",
    "\n",
    "# model = freeze(model, 5) # Freezing the model - new!\n",
    "\n",
    "\n",
    "# opt = Adagrad(learning_rate=INIT_LR, decay=INIT_LR / NUM_EPOCHS) # Using Adagrad  <<<< Base Test\n",
    "\n",
    "opt = Adam(learning_rate=INIT_LR, decay=INIT_LR / NUM_EPOCHS) # Using Adam\n",
    "\n",
    "\n",
    "# Define callbacks\n",
    "# checkpoint = ModelCheckpoint('model_checkpoint.h5', save_best_only=True)\n",
    "# csv_logger = CSVLogger('training_history.csv', append=True)\n",
    "\n",
    "\n",
    "model.compile(loss=\"binary_crossentropy\", optimizer=opt,\n",
    "\tmetrics=[\"accuracy\"])\n",
    "\n",
    "# fit the model\n",
    "H = model.fit(\n",
    "\tx=trainGen,\n",
    "\tsteps_per_epoch=totalTrain // BS,\n",
    "\tvalidation_data=valGen,\n",
    "\tvalidation_steps=totalVal // BS,\n",
    "\tclass_weight=classWeight,\n",
    "\tepochs=NUM_EPOCHS)\n",
    "\n",
    "\n",
    "\n",
    "# H = model.fit(\n",
    "# \tx=trainGen,\n",
    "# \tsteps_per_epoch=totalTrain // BS,\n",
    "# \tvalidation_data=valGen,\n",
    "# \tvalidation_steps=totalVal // BS,\n",
    "# \tclass_weight=classWeight,\n",
    "# \tepochs=NUM_EPOCHS,\n",
    "#     callbacks=[checkpoint, csv_logger])\n",
    "\n",
    "\n",
    "# H = model.fit(\n",
    "# \tx=trainGen,\n",
    "# \tvalidation_data=valGen,\n",
    "# \tclass_weight=classWeight,    # Trying without controling steps per epoch\n",
    "# \tepochs=NUM_EPOCHS)"
   ]
  },
  {
   "cell_type": "code",
   "execution_count": null,
   "metadata": {
    "id": "V9rs9Dr66EIY"
   },
   "outputs": [],
   "source": [
    "# Create a file to save the output\n",
    "\n",
    "\n",
    "# reset the testing generator and then use our trained model to\n",
    "# make predictions on the data\n",
    "print(\"[INFO] evaluating network...\")\n",
    "testGen.reset()\n",
    "predIdxs = model.predict(x=testGen, steps=(totalTest // BS) + 1)\n",
    "# for each image in the testing set we need to find the index of the\n",
    "# label with corresponding largest predicted probability\n",
    "predIdxs = np.argmax(predIdxs, axis=1)\n",
    "# show a nicely formatted classification report\n",
    "print(classification_report(testGen.classes, predIdxs,\n",
    "\ttarget_names=testGen.class_indices.keys()))\n",
    "\n",
    "# Create a StringIO object to capture the output\n",
    "output_buffer = io.StringIO()\n",
    "\n",
    "# Replace the default stdout with the StringIO object\n",
    "sys.stdout = output_buffer\n",
    "\n",
    "# Your code block here\n",
    "print(\"[INFO] evaluating network...\")\n",
    "\n",
    "# show a nicely formatted classification report\n",
    "print(classification_report(testGen.classes, predIdxs,\n",
    "\ttarget_names=testGen.class_indices.keys()))\n",
    "# ...\n",
    "\n",
    "# Get the captured output and write it to a file\n",
    "output_text = output_buffer.getvalue()\n",
    "with open(\"network_evaluation.txt\", \"w\") as output_file:\n",
    "    output_file.write(output_text)\n",
    "\n",
    "# Reset stdout to its original state (console)\n",
    "sys.stdout = sys.__stdout__"
   ]
  },
  {
   "cell_type": "markdown",
   "metadata": {
    "id": "NZm2FJQF6Hng"
   },
   "source": [
    "# Print Plot and Measures"
   ]
  },
  {
   "cell_type": "markdown",
   "metadata": {
    "id": "tONOiWGnaAJa"
   },
   "source": [
    "Compute Accuracy, Sensitivity, Specificity"
   ]
  },
  {
   "cell_type": "code",
   "execution_count": null,
   "metadata": {
    "id": "SwMkPZNs6GBG"
   },
   "outputs": [],
   "source": [
    "# compute the confusion matrix and and use it to derive the raw\n",
    "# accuracy, sensitivity, and specificity\n",
    "cm = confusion_matrix(testGen.classes, predIdxs)\n",
    "total = sum(sum(cm))\n",
    "acc = (cm[0, 0] + cm[1, 1]) / total\n",
    "sensitivity = cm[0, 0] / (cm[0, 0] + cm[0, 1])\n",
    "specificity = cm[1, 1] / (cm[1, 0] + cm[1, 1])\n",
    "# show the confusion matrix, accuracy, sensitivity, and specificity\n",
    "print(cm)\n",
    "print(\"acc: {:.4f}\".format(acc))\n",
    "print(\"sensitivity: {:.4f}\".format(sensitivity))\n",
    "print(\"specificity: {:.4f}\".format(specificity))\n",
    "\n",
    "\n",
    "\n",
    "# Create a StringIO object to capture the output\n",
    "output_buffer = io.StringIO()\n",
    "\n",
    "# Replace the default stdout with the StringIO object\n",
    "sys.stdout = output_buffer\n",
    "\n",
    "\n",
    "# show a nicely formatted classification report\n",
    "print(cm)\n",
    "print(\"acc: {:.4f}\".format(acc))\n",
    "print(\"sensitivity: {:.4f}\".format(sensitivity))\n",
    "print(\"specificity: {:.4f}\".format(specificity))\n",
    "# ...\n",
    "\n",
    "# Get the captured output and write it to a file\n",
    "output_text = output_buffer.getvalue()\n",
    "with open(\"Accuracy_Sensitivity_Specificity.txt\", \"w\") as output_file:\n",
    "    output_file.write(output_text)\n",
    "\n",
    "# Reset stdout to its original state (console)\n",
    "sys.stdout = sys.__stdout__"
   ]
  },
  {
   "cell_type": "markdown",
   "metadata": {
    "id": "DlR_knKUyO3j"
   },
   "source": [
    "Plot"
   ]
  },
  {
   "cell_type": "code",
   "execution_count": null,
   "metadata": {
    "id": "unWRxxZI6H2H"
   },
   "outputs": [],
   "source": [
    "\n",
    "\n",
    "# Your plot code\n",
    "%matplotlib inline\n",
    "N = NUM_EPOCHS\n",
    "plt.style.use(\"ggplot\")\n",
    "plt.figure()\n",
    "plt.plot(np.arange(0, N), H.history[\"loss\"], label=\"train_loss\")\n",
    "plt.plot(np.arange(0, N), H.history[\"val_loss\"], label=\"val_loss\")\n",
    "plt.plot(np.arange(0, N), H.history[\"accuracy\"], label=\"train_acc\")\n",
    "plt.plot(np.arange(0, N), H.history[\"val_accuracy\"], label=\"val_acc\")\n",
    "plt.title(\"Training Loss and Accuracy on Dataset\")\n",
    "plt.xlabel(\"Epoch #\")\n",
    "plt.ylabel(\"Loss/Accuracy\")\n",
    "plt.legend(loc=\"lower left\")\n",
    "\n",
    "# Create a FigureCanvasAgg object to render the figure\n",
    "canvas = FigureCanvasAgg(plt.gcf())\n",
    "canvas.draw()\n",
    "\n",
    "# Save the rendered figure to a file\n",
    "canvas.print_figure(\"plot.png\", dpi=100, format=\"png\")\n"
   ]
  },
  {
   "cell_type": "code",
   "execution_count": null,
   "metadata": {},
   "outputs": [],
   "source": [
    "# SHAP-related code\n",
    "import shap\n",
    "import numpy as np\n",
    "\n",
    "# Generate background samples using the training generator\n",
    "background = next(trainGen)[0]\n",
    "\n",
    "# Instantiate the deep explainer with the best CNN model and the background samples\n",
    "e = shap.DeepExplainer(model, background)\n",
    "\n",
    "# Obtaining the SHAP values on the first 10 images\n",
    "shap_values = e.shap_values(valGen.next()[0][1:11])\n",
    "\n",
    "# plot to see where did the model concentrate to classify the images\n",
    "shap.image_plot(shap_values, -valGen.next()[0][1:11])"
   ]
  }
 ],
 "metadata": {
  "colab": {
   "collapsed_sections": [
    "NZm2FJQF6Hng"
   ],
   "gpuType": "T4",
   "provenance": []
  },
  "kernelspec": {
   "display_name": "Python 3",
   "name": "python3"
  },
  "language_info": {
   "codemirror_mode": {
    "name": "ipython",
    "version": 3
   },
   "file_extension": ".py",
   "mimetype": "text/x-python",
   "name": "python",
   "nbconvert_exporter": "python",
   "pygments_lexer": "ipython3",
   "version": "3.11.5"
  }
 },
 "nbformat": 4,
 "nbformat_minor": 4
}
